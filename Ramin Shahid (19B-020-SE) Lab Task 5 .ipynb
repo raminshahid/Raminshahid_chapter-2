{
 "cells": [
  {
   "cell_type": "markdown",
   "metadata": {},
   "source": [
    "# LAB TASK 5\n"
   ]
  },
  {
   "cell_type": "code",
   "execution_count": 3,
   "metadata": {},
   "outputs": [
    {
     "name": "stdout",
     "output_type": "stream",
     "text": [
      "The area of cylinder is : 100.53096491487338 cm**2\n",
      "The volume of cylinder is : 603.1857894892403 cm**3\n"
     ]
    }
   ],
   "source": [
    "#QUESTION 1\n",
    "from math import pi\n",
    "\n",
    "\n",
    "def surfaceArea(r,h):\n",
    "    area = 2*pi*r*h + 2*pi*r**2\n",
    "    return area\n",
    "# drivercode\n",
    "r=2\n",
    "h=6\n",
    "print(\"The area of cylinder is :\",surfaceArea(r,h),'cm**2')\n",
    "\n",
    "# volume of a cylinder\n",
    "import math\n",
    "pi=math.pi\n",
    "\n",
    "def Volume(r,h):\n",
    "    vol = pi*r**2*h\n",
    "    return vol\n",
    "#drivercode\n",
    "r=8\n",
    "h=3\n",
    "print(\"The volume of cylinder is :\",Volume(r,h),'cm**3')"
   ]
  },
  {
   "cell_type": "code",
   "execution_count": 6,
   "metadata": {},
   "outputs": [
    {
     "name": "stdout",
     "output_type": "stream",
     "text": [
      "The area of cylinder is : 12 cm**2\n",
      "The area of cylinder is : 108 cm**3\n"
     ]
    }
   ],
   "source": [
    "#QUESTION 2\n",
    "import math\n",
    "pi=math.pi\n",
    "\n",
    "def surfaceArea(l,w):\n",
    "    area = l*w\n",
    "    return area\n",
    "\n",
    "l=6\n",
    "w=2\n",
    "print(\"The area of cylinder is :\",surfaceArea(l,w),'cm**2')\n",
    "\n",
    "#FOR VOLUME\n",
    "from math import pi\n",
    "\n",
    "def Volume(l,w,h):\n",
    "    Vol = l*w*h\n",
    "    return Vol\n",
    "\n",
    "l=6\n",
    "w=2\n",
    "h=9\n",
    "print(\"The area of cylinder is :\",Volume(l,w,h),'cm**3')"
   ]
  },
  {
   "cell_type": "code",
   "execution_count": 8,
   "metadata": {},
   "outputs": [
    {
     "name": "stdout",
     "output_type": "stream",
     "text": [
      "The Value of the sequence is:  207\n",
      "The Value of the sequence is:  267\n",
      "The Value of the sequence is:  573\n"
     ]
    }
   ],
   "source": [
    "#QUESTION 3\n",
    "  \n",
    "def arithmetic_eqn(a1,n,d):\n",
    "    an = a1+(n-1)*d\n",
    "    return an \n",
    "\n",
    "print(\"The Value of the sequence is: \",arithmetic_eqn(3,35,6))\n",
    "\n",
    "def arithmetic_eqn(a1,n,d):\n",
    "    an = a1+(n-1)*d\n",
    "    return an \n",
    " \n",
    "print(\"The Value of the sequence is: \",arithmetic_eqn(3,45,6))\n",
    "\n",
    "def arithmetic_eqn(a1,n,d):\n",
    "    an = a1+(n-1)*d\n",
    "    return an \n",
    "\n",
    "print(\"The Value of the sequence is: \",arithmetic_eqn(3,96,6))"
   ]
  },
  {
   "cell_type": "code",
   "execution_count": 3,
   "metadata": {},
   "outputs": [
    {
     "name": "stdout",
     "output_type": "stream",
     "text": [
      "The Given string is Pallindrome\n"
     ]
    }
   ],
   "source": [
    "#QUESTION 4\n",
    "\n",
    "def reverse(x): \n",
    "    return x[::-1] \n",
    "  \n",
    "def isPalindrome(x): \n",
    "    rev = reverse(x)  \n",
    "    if (x == rev): \n",
    "        return True\n",
    "    return False\n",
    "  \n",
    "x = \"mom\"\n",
    "ans = isPalindrome(x) \n",
    "  \n",
    "if ans == 1: \n",
    "    print(\"The Given string is Pallindrome\") \n",
    "else: \n",
    "    print(\"Sorry,The Given string is not Pallindrome\")"
   ]
  },
  {
   "cell_type": "code",
   "execution_count": 2,
   "metadata": {},
   "outputs": [
    {
     "name": "stdout",
     "output_type": "stream",
     "text": [
      "-----------------------------------------------------------------------------------------------\n",
      "-----------------BOARD OF INTETRMEDIATE EDCUCATION KARACHI------------------\n",
      "---------------------------STUDENT MARKSHEET ------------------------\n",
      "\n",
      "Enter The name of student: Ramin Shahid\n",
      "Enter the father name: Shahid Ahmed\n",
      "Enter the roll number: 2341\n",
      "\n",
      "Marks of Islamiat out of 100 are: 89\n",
      "Marks of Urdu out of 100 are: 78\n",
      "Marks of Physics out of 100 are: 67\n",
      "Marks of Chemistry out of 100 are: 56\n",
      "Marks of Maths out of 100 are: 67\n",
      "\n",
      "Student's Name:  Ramin Shahid\n",
      "Father's Name:  Shahid Ahmed\n",
      "Roll Number:  2341\n",
      "\n",
      "Percentage:  71.39999999999999 %\n",
      "Grade: B\n"
     ]
    }
   ],
   "source": [
    "#QUESTION 5\n",
    "print(\"-----------------------------------------------------------------------------------------------\")\n",
    "print(\"-----------------BOARD OF INTETRMEDIATE EDCUCATION KARACHI------------------\")\n",
    "print(\"---------------------------STUDENT MARKSHEET ------------------------\")\n",
    "print()\n",
    "\n",
    "stu_name=input(\"Enter The name of student: \")\n",
    "father_name=input(\"Enter the father name: \")\n",
    "roll_num=input(\"Enter the roll number: \")\n",
    "\n",
    "print()\n",
    "sub1marks=int(input(\"Marks of Islamiat out of 100 are: \"))\n",
    "sub2marks=int(input(\"Marks of Urdu out of 100 are: \"))\n",
    "sub3marks=int(input(\"Marks of Physics out of 100 are: \"))\n",
    "sub4marks=int(input(\"Marks of Chemistry out of 100 are: \"))\n",
    "sub5marks=int(input(\"Marks of Maths out of 100 are: \"))\n",
    "print()\n",
    "print(\"Student's Name: \",stu_name)\n",
    "print(\"Father's Name: \",father_name)\n",
    "print(\"Roll Number: \",roll_num)\n",
    "print()\n",
    "obt_marks=sub1marks+sub2marks+sub3marks+sub4marks+sub5marks\n",
    "tot_marks=500\n",
    "\n",
    "def percentage(tot_marks,obt_marks):\n",
    "    x=(obt_marks/tot_marks)*100\n",
    "    return x\n",
    "\n",
    "def grade(x):\n",
    "    if x>=80:\n",
    "        return(\"Grade: A\")\n",
    "    elif x<80 and x>=70:\n",
    "        return(\"Grade: B\")\n",
    "    elif x<70 and x>=60:\n",
    "        return(\"Grade: C\")\n",
    "    elif x<60:\n",
    "        return(\"Grade: F\")\n",
    "\n",
    "xPercent = percentage(tot_marks,obt_marks)\n",
    "xGrade = grade(xPercent)\n",
    "print(\"Percentage: \",xPercent,\"%\")\n",
    "print(xGrade)  \n",
    "   \n",
    "\n"
   ]
  },
  {
   "cell_type": "code",
   "execution_count": 9,
   "metadata": {},
   "outputs": [
    {
     "name": "stdout",
     "output_type": "stream",
     "text": [
      "Newton 1st law is : 28 m/s\n"
     ]
    }
   ],
   "source": [
    "#QUESTION 6\n",
    "import math\n",
    "def NewtonLaw_1(m,a):\n",
    "    f = m*a\n",
    "    return f\n",
    "\n",
    "\n",
    "print(\"Newton 1st law is :\",NewtonLaw_1(7,4),'m/s')\n",
    "\n"
   ]
  },
  {
   "cell_type": "code",
   "execution_count": 15,
   "metadata": {},
   "outputs": [
    {
     "name": "stdout",
     "output_type": "stream",
     "text": [
      "The final velocity of projectile motion  is : 500.3312724260617 m/s\n"
     ]
    }
   ],
   "source": [
    "##QUESTION 7\n",
    "import math\n",
    "angle =math.sin\n",
    "def projectile(vi,ang,g):\n",
    "    vf = math.sin(ang)*2*vi*g\n",
    "    return vf\n",
    "  \n",
    "print(\"The final velocity of projectile motion  is :\",projectile(30,45,9.8),'m/s')"
   ]
  },
  {
   "cell_type": "code",
   "execution_count": 1,
   "metadata": {},
   "outputs": [
    {
     "name": "stdout",
     "output_type": "stream",
     "text": [
      "The original string  is : Ramin\n",
      "The reversed string is : nimaR\n"
     ]
    }
   ],
   "source": [
    "#QUESTION 8\n",
    "def reverse(n):\n",
    "    if len(n) == 0: \n",
    "        return n \n",
    "    else: \n",
    "        return reverse(n[1:]) + n[0]\n",
    "n=\"Ramin\"\n",
    "print (\"The original string  is : \",end=\"\") \n",
    "print (n) \n",
    "  \n",
    "print (\"The reversed string is : \",end=\"\") \n",
    "print (reverse(n)) \n",
    "\n"
   ]
  },
  {
   "cell_type": "code",
   "execution_count": 37,
   "metadata": {},
   "outputs": [
    {
     "name": "stdout",
     "output_type": "stream",
     "text": [
      "Perimeter of semi-circle is:  21.991148575128552 cm**2\n",
      "Perimeter of semi circle excluding 2 small semi circles:  0.0 cm**2\n",
      "\n",
      "The area of big semi circle is:  76.96902001294993 cm**2\n",
      "Area of semi circle excluding 2 small semi circles:  38.48451000647496 cm**2\n"
     ]
    }
   ],
   "source": [
    "#QUESTION 11\n",
    "from math import pi\n",
    "d_1=14\n",
    "d_2=7\n",
    "d_3=7\n",
    "perimeter_1=pi*(d_1/2)\n",
    "print(\"Perimeter of semi-circle is: \",perimeter_1,\"cm**2\")\n",
    "perimeter_2=pi*(d_2/2)\n",
    "perimeter_3=pi*(d_3/2)\n",
    "print(\"Perimeter of semi circle excluding 2 small semi circles: \",perimeter_1-(perimeter_2+perimeter_3),\"cm**2\")\n",
    "print()\n",
    "area_1= (pi * (d_1/2)**2)/2\n",
    "print(\"The area of big semi circle is: \",area_1,\"cm**2\")\n",
    "area_2= (pi * (d_2/2)**2)/2\n",
    "area_3= (pi * (d_3/2)**2)/2\n",
    "print(\"Area of semi circle excluding 2 small semi circles: \",area_1-(area_2+area_3),\"cm**2\")\n",
    "\n"
   ]
  }
 ],
 "metadata": {
  "kernelspec": {
   "display_name": "Python 3",
   "language": "python",
   "name": "python3"
  },
  "language_info": {
   "codemirror_mode": {
    "name": "ipython",
    "version": 3
   },
   "file_extension": ".py",
   "mimetype": "text/x-python",
   "name": "python",
   "nbconvert_exporter": "python",
   "pygments_lexer": "ipython3",
   "version": "3.7.3"
  }
 },
 "nbformat": 4,
 "nbformat_minor": 2
}
