{
 "cells": [
  {
   "cell_type": "markdown",
   "metadata": {},
   "source": [
    "# LECTURE 8_9 Assignment\n"
   ]
  },
  {
   "cell_type": "code",
   "execution_count": 5,
   "metadata": {},
   "outputs": [
    {
     "name": "stdout",
     "output_type": "stream",
     "text": [
      "**************************************  FSC MARKSHEET 2019  *******************************************\n",
      "Marks of Pak Studies out of 100 are: 60\n",
      "Marks of Urdu out of 100 are: 80\n",
      "Marks of Physics out of 100 are: 78\n",
      "Marks of Chemistry out of 100 are: 77\n",
      "Marks of Maths out of 100 are: 60\n",
      "Marks of Islamiat out of 100 are: 50\n",
      "\n",
      "The total marks obtained is:  355 out of 500\n",
      "Percentage is:  71.0 %\n",
      "Grade: A\n",
      "\n"
     ]
    }
   ],
   "source": [
    "print(\"**************************************  FSC MARKSHEET 2019  *******************************************\")\n",
    "\n",
    "sub1marks=int(input(\"Marks of Pak Studies out of 100 are: \"))\n",
    "sub2marks=int(input(\"Marks of Urdu out of 100 are: \"))\n",
    "sub3marks=int(input(\"Marks of Physics out of 100 are: \"))\n",
    "sub4marks=int(input(\"Marks of Chemistry out of 100 are: \"))\n",
    "sub5marks=int(input(\"Marks of Maths out of 100 are: \"))\n",
    "sub6marks=int(input(\"Marks of Islamiat out of 100 are: \"))\n",
    "print()\n",
    "obt_marks=sub1marks+sub2marks+sub3marks+sub4marks+sub5marks\n",
    "tot_marks=500\n",
    "print(\"The total marks obtained is: \",obt_marks,\"out of 500\")\n",
    "\n",
    "per=(obt_marks/tot_marks)*100\n",
    "print (\"Percentage is: \",per,\"%\")\n",
    "if per>=80:\n",
    "    print(\"Grade: A+\")\n",
    "elif per<80 and per>=70:\n",
    "    print(\"Grade: A\")\n",
    "elif per<70 and per>=60:\n",
    "    print(\"Grade: B\")\n",
    "elif per<60 and per>=55:\n",
    "    print(\"Grade: C\")\n",
    "elif per<55 and per>=50:\n",
    "          print(\"Grade: D\")\n",
    "elif per<50:\n",
    "    print(\"Grade: F\")\n",
    "print()"
   ]
  },
  {
   "cell_type": "code",
   "execution_count": 1,
   "metadata": {},
   "outputs": [
    {
     "name": "stdout",
     "output_type": "stream",
     "text": [
      "Oh my lovely friend Ayesha I would like you to come on my graduation ceremony.\n",
      "Filza I would like you to come on my graduation ceremony.\n",
      "Ramin I would like you to come on my graduation ceremony.\n",
      "Oh my lovely friend Amber I would like you to come on my graduation ceremony.\n",
      "Oh my lovely friend Alisha I would like you to come on my graduation ceremony.\n",
      "Oh my lovely friend Ali I would like you to come on my graduation ceremony.\n",
      "Tooba I would like you to come on my graduation ceremony.\n",
      "Oh my lovely friend Aqsa I would like you to come on my graduation ceremony.\n",
      "Rehman I would like you to come on my graduation ceremony.\n",
      "Oh my lovely friend Osama I would like you to come on my graduation ceremony.\n"
     ]
    }
   ],
   "source": [
    "#QUESTION 2\n",
    "contact_lst=('Ayesha','Filza','Ramin','Amber','Alisha','Ali','Tooba','Aqsa','Rehman','Osama')\n",
    "for i in contact_lst:\n",
    "    if i[0] in ('a','e','i','o','u','A','E','I','O','U'):\n",
    "        print(\"Oh my lovely friend\",i,\"I would like you to come on my graduation ceremony.\")\n",
    "    else:\n",
    "        print(i,\"I would like you to come on my graduation ceremony.\")\n",
    "        \n",
    "    \n",
    "\n",
    "\n",
    "        \n",
    "    \n",
    "    \n",
    "    \n"
   ]
  }
 ],
 "metadata": {
  "kernelspec": {
   "display_name": "Python 3",
   "language": "python",
   "name": "python3"
  },
  "language_info": {
   "codemirror_mode": {
    "name": "ipython",
    "version": 3
   },
   "file_extension": ".py",
   "mimetype": "text/x-python",
   "name": "python",
   "nbconvert_exporter": "python",
   "pygments_lexer": "ipython3",
   "version": "3.7.3"
  }
 },
 "nbformat": 4,
 "nbformat_minor": 2
}
