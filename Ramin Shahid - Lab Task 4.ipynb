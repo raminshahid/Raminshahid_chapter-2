{
 "cells": [
  {
   "cell_type": "code",
   "execution_count": 1,
   "metadata": {},
   "outputs": [
    {
     "name": "stdout",
     "output_type": "stream",
     "text": [
      "Enter your string: Ramin\n",
      "The string is not a palindrome\n"
     ]
    }
   ],
   "source": [
    "#QUESTION 3\n",
    "x=input(\"Enter your string: \")\n",
    "x=x.casefold()\n",
    "y=reversed(x)\n",
    "if list(x)==list(y):\n",
    "    print(\"The string is a palindrome\")\n",
    "else:\n",
    "    print(\"The string is not a palindrome\")\n",
    "    \n",
    "\n",
    "    "
   ]
  },
  {
   "cell_type": "code",
   "execution_count": 2,
   "metadata": {},
   "outputs": [
    {
     "name": "stdout",
     "output_type": "stream",
     "text": [
      "Enter the value of a: 3\n",
      "Enter the value of b: 6\n",
      "Enter the value of c: 4\n",
      "The value of x1 is:  (-9+5.196152422706632j)\n",
      "The value of x2 is:  (-9-5.196152422706632j)\n"
     ]
    }
   ],
   "source": [
    "#QUESTION 1\n",
    "from cmath import sqrt\n",
    "a=int(input(\"Enter the value of a: \"))\n",
    "b=int(input(\"Enter the value of b: \"))\n",
    "c=int(input(\"Enter the value of c: \"))\n",
    "\n",
    "if 2*a==0:\n",
    "    print(\"The equation cant solve because denominator cant be zero\")\n",
    "else:\n",
    "    x1=(-b+sqrt(b**2-4*a*c))/2*a\n",
    "    x2=(-b-sqrt(b**2-4*a*c))/2*a\n",
    "    print(\"The value of x1 is: \",x1)\n",
    "    print(\"The value of x2 is: \",x2)\n",
    "     "
   ]
  },
  {
   "cell_type": "code",
   "execution_count": 20,
   "metadata": {},
   "outputs": [
    {
     "name": "stdout",
     "output_type": "stream",
     "text": [
      "Enter the first term of the sequence: 3\n",
      "Enter the common differnce b/w two numbers: 6\n",
      "Enter the total numbers in sequence: 35\n",
      "The nth term of the sequence is:  207\n",
      "Do you want to continue or not: yes\n",
      "Enter the nth value of second sequence :45\n",
      "The nth term of the sequence is:  267\n"
     ]
    }
   ],
   "source": [
    "#QUESTION 2 \n",
    "a1=int(input(\"Enter the first term of the sequence: \"))\n",
    "d=int(input(\"Enter the common differnce b/w two numbers: \"))\n",
    "n=int(input(\"Enter the total numbers in sequence: \"))\n",
    "last_term = a1+(n-1)*d\n",
    "print(\"The nth term of the sequence is: \",last_term)\n",
    "x=str(input(\"Do you want to continue or not: \"))\n",
    "\n",
    "if x =='yes':\n",
    "    n2=int(input(\"Enter the nth value of second sequence :\"))\n",
    "    Last_term=a1+(n2-1)*d\n",
    "    print(\"The nth term of the sequence is: \",Last_term)    \n",
    "else:\n",
    "    print(\"Thankyou\")\n",
    "    \n",
    "\n",
    "    \n",
    "\n"
   ]
  },
  {
   "cell_type": "code",
   "execution_count": 2,
   "metadata": {},
   "outputs": [
    {
     "name": "stdout",
     "output_type": "stream",
     "text": [
      "**************************************************************************************************************\n",
      "*********************************** BOARD OF SECONDARY EDUCATION ************************************************\n",
      "***********************************     STUDENT MARKSHEET     **************************************************\n",
      "\n",
      "Name: Ramin Shahid\n",
      "Father Name: Shahid Ahmed\n",
      "Roll Number: 213421\n",
      "\n",
      "1st subject name: Maths\n",
      "2nd subject name: Chemistry\n",
      "3rd subject name: Physics\n",
      "4th subject name: Islamiat\n",
      "5th subject name: Urdu\n",
      "\n",
      "Marks of Maths out of 100 are: 34\n",
      "Marks of Chemistry out of 100 are: 67\n",
      "Marks of Physics out of 100 are: 87\n",
      "Marks of Islamiat out of 100 are: 56\n",
      "Marks of Urdu out of 100 are: 98\n",
      "\n",
      "Student's Name:  Ramin Shahid\n",
      "Father's Name:  Shahid Ahmed\n",
      "Roll Number:  213421\n",
      "The total marks obtained is:  342 out of 500\n",
      "Percentage is:  68.4 %\n",
      "Grade: C\n",
      "\n",
      "******************************************************************************************************\n"
     ]
    }
   ],
   "source": [
    "import math\n",
    "print(\"**************************************************************************************************************\")\n",
    "print(\"*********************************** BOARD OF SECONDARY EDUCATION ************************************************\")\n",
    "print(\"***********************************     STUDENT MARKSHEET     **************************************************\")\n",
    "print()        \n",
    "        \n",
    "a = input(\"Name: \")\n",
    "b = input(\"Father Name: \")\n",
    "c = int(input(\"Roll Number: \"))\n",
    "print()\n",
    "d=str(input(\"1st subject name: \"))\n",
    "e=str(input(\"2nd subject name: \"))\n",
    "f=str(input(\"3rd subject name: \"))\n",
    "g=str(input(\"4th subject name: \"))\n",
    "h=str(input(\"5th subject name: \"))\n",
    "print()\n",
    "sub1marks=int(input(\"Marks of \"+str(d)+\" out of 100 are: \"))\n",
    "sub2marks=int(input(\"Marks of \"+str(e)+\" out of 100 are: \"))\n",
    "sub3marks=int(input(\"Marks of \"+str(f)+\" out of 100 are: \"))\n",
    "sub4marks=int(input(\"Marks of \"+str(g)+\" out of 100 are: \"))\n",
    "sub5marks=int(input(\"Marks of \"+str(h)+\" out of 100 are: \"))\n",
    "print()\n",
    "print(\"Student's Name: \",a)\n",
    "print(\"Father's Name: \",b)\n",
    "print(\"Roll Number: \",c)\n",
    "obt_marks=sub1marks+sub2marks+sub3marks+sub4marks+sub5marks\n",
    "tot_marks=500\n",
    "print(\"The total marks obtained is: \",obt_marks,\"out of 500\")\n",
    "\n",
    "per=(obt_marks/tot_marks)*100\n",
    "print (\"Percentage is: \",per,\"%\")\n",
    "if per>=80:\n",
    "    print(\"Grade: A\")\n",
    "elif per<80 and per>=70:\n",
    "    print(\"Grade: B\")\n",
    "elif per<70 and per>=60:\n",
    "    print(\"Grade: C\")\n",
    "elif per<60 and per>=50:\n",
    "    print(\"Grade: D\")\n",
    "elif per<50:\n",
    "    print(\"Grade: F\")\n",
    "print()\n",
    "print(\"******************************************************************************************************\")    \n",
    "\n",
    "\n",
    "\n",
    "\n",
    "\n",
    "\n",
    "\n"
   ]
  },
  {
   "cell_type": "markdown",
   "metadata": {},
   "source": []
  },
  {
   "cell_type": "code",
   "execution_count": 8,
   "metadata": {},
   "outputs": [
    {
     "name": "stdout",
     "output_type": "stream",
     "text": [
      "[5, 13, 24]\n",
      "[14, 8, 22]\n",
      "[17, 21, 18]\n"
     ]
    }
   ],
   "source": [
    "#QUESTION 6\n",
    "x=[[2,4,9]\n",
    "   ,[3,4,7]\n",
    "   ,[9,2,12]]\n",
    "y=[[3,9,15]\n",
    "   ,[11,4,15]\n",
    "   ,[8,19,6]]\n",
    "result=[[0,0,0],\n",
    "       [0,0,0],\n",
    "       [0,0,0]]\n",
    "\n",
    "for i in range(len(x)):\n",
    "    for j in range(len(x[0])):\n",
    "        result[i][j]=x[i][j] +y[i][j]\n",
    "for r in result:\n",
    "    print(r)"
   ]
  },
  {
   "cell_type": "code",
   "execution_count": 14,
   "metadata": {},
   "outputs": [
    {
     "name": "stdout",
     "output_type": "stream",
     "text": [
      "[70, 48, 3]\n",
      "[24, 56, 18]\n",
      "[28, 15, 81]\n"
     ]
    }
   ],
   "source": [
    "#QUESTION 7\n",
    "x=[[14,6,3],\n",
    "   [4,8,6],\n",
    "   [7,3,9]]\n",
    "y=[[5,8,1],\n",
    "   [6,7,3],\n",
    "   [4,5,9]]\n",
    "result=[[0,0,0],\n",
    "       [0,0,0],\n",
    "       [0,0,0]]\n",
    "\n",
    "for i in range(len(x)):\n",
    "    for j in range(len(x[0])):\n",
    "        result[i][j]=x[i][j] * y[i][j]\n",
    "for r in result:\n",
    "    print(r)"
   ]
  },
  {
   "cell_type": "code",
   "execution_count": 16,
   "metadata": {},
   "outputs": [
    {
     "name": "stdout",
     "output_type": "stream",
     "text": [
      "Enter the number of rows : 5\n",
      "Enter the number of columns : 5\n",
      "1\n",
      "2\n",
      "3\n",
      "4\n",
      "5\n",
      "2\n",
      "4\n",
      "6\n",
      "8\n",
      "10\n",
      "3\n",
      "6\n",
      "9\n",
      "12\n",
      "15\n",
      "4\n",
      "8\n",
      "12\n",
      "16\n",
      "20\n",
      "5\n",
      "10\n",
      "15\n",
      "20\n",
      "25\n",
      "1 2 3 4 5 \n",
      "2 4 6 8 10 \n",
      "3 6 9 12 15 \n",
      "4 8 12 16 20 \n",
      "5 10 15 20 25 \n"
     ]
    }
   ],
   "source": [
    "#QUESTION 5\n",
    "x=int(input(\"Enter the number of rows : \"))\n",
    "y=int(input(\"Enter the number of columns : \"))\n",
    "matrix=[]\n",
    "\n",
    "for i in range(x):\n",
    "    a =[]\n",
    "    for j in range(y):\n",
    "        a.append(int(input()))\n",
    "    matrix.append(a)\n",
    "for i in range(x):\n",
    "    for j in range(y):\n",
    "        print(matrix[i][j], end = \" \")\n",
    "    print()"
   ]
  }
 ],
 "metadata": {
  "kernelspec": {
   "display_name": "Python 3",
   "language": "python",
   "name": "python3"
  },
  "language_info": {
   "codemirror_mode": {
    "name": "ipython",
    "version": 3
   },
   "file_extension": ".py",
   "mimetype": "text/x-python",
   "name": "python",
   "nbconvert_exporter": "python",
   "pygments_lexer": "ipython3",
   "version": "3.7.3"
  }
 },
 "nbformat": 4,
 "nbformat_minor": 2
}
