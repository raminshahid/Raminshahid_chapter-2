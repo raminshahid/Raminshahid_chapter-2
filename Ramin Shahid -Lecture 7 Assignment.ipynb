{
 "cells": [
  {
   "cell_type": "markdown",
   "metadata": {},
   "source": [
    "# Lecture 7 Assignment"
   ]
  },
  {
   "cell_type": "code",
   "execution_count": 1,
   "metadata": {},
   "outputs": [
    {
     "name": "stdout",
     "output_type": "stream",
     "text": [
      "WELCOME TO USMAN INSTITUTE OF TECHNOLOGY\n",
      "Fill the required information for further process\n",
      "\n",
      "----------------------------------------------------------------\n",
      "Enter your name: Ramin Shahid\n",
      "Enter your father's name: Shahid Ahmed\n",
      "Name of School: CAA School\n",
      "Name of college: Fazaia College\n",
      "Enter your entry test roll number: 23423\n",
      "\n",
      "Enter your HSC percentage: 67\n",
      "Enter your entry test marks: 56\n",
      "\n",
      "Congratulations you're eligible to take admission in UIT\n",
      "\n",
      "-----------------------------------------------------------------\n",
      "            THANKYOU FOR APPLYING FOR UIT \n"
     ]
    }
   ],
   "source": [
    "#QUESTION : Apllication to take admission in UIT\n",
    "\n",
    "print(\"WELCOME TO USMAN INSTITUTE OF TECHNOLOGY\")\n",
    "print(\"Fill the required information for further process\")\n",
    "print()\n",
    "print(\"----------------------------------------------------------------\")\n",
    "\n",
    "a=str(input(\"Enter your name: \"))\n",
    "b=str(input(\"Enter your father's name: \"))\n",
    "c=str(input(\"Name of School: \"))\n",
    "d=str(input(\"Name of college: \"))\n",
    "e=int(input(\"Enter your entry test roll number: \"))\n",
    "print()\n",
    "hsc_per=int(input(\"Enter your HSC percentage: \"))\n",
    "entry_marks=int(input(\"Enter your entry test marks: \"))\n",
    "print()\n",
    "if hsc_per>=60 and entry_marks>=50:\n",
    "    print(\"Congratulations you're eligible to take admission in UIT\")\n",
    "else:\n",
    "    print(\"Sorry, you're not eligible to take admission in UIT\")\n",
    "print()\n",
    "print(\"-----------------------------------------------------------------\")\n",
    "print(\"            THANKYOU FOR APPLYING FOR UIT \")\n"
   ]
  },
  {
   "cell_type": "code",
   "execution_count": null,
   "metadata": {},
   "outputs": [],
   "source": []
  }
 ],
 "metadata": {
  "kernelspec": {
   "display_name": "Python 3",
   "language": "python",
   "name": "python3"
  },
  "language_info": {
   "codemirror_mode": {
    "name": "ipython",
    "version": 3
   },
   "file_extension": ".py",
   "mimetype": "text/x-python",
   "name": "python",
   "nbconvert_exporter": "python",
   "pygments_lexer": "ipython3",
   "version": "3.7.3"
  }
 },
 "nbformat": 4,
 "nbformat_minor": 2
}
