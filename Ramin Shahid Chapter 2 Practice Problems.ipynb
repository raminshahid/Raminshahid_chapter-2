{
 "cells": [
  {
   "cell_type": "markdown",
   "metadata": {},
   "source": [
    "# LECTURE 5_6 Assignment\n"
   ]
  },
  {
   "cell_type": "code",
   "execution_count": 12,
   "metadata": {},
   "outputs": [
    {
     "name": "stdout",
     "output_type": "stream",
     "text": [
      "Sum of first five integers is:  15\n",
      "\n",
      "The average age of Sara , Mark and Fatima is:  24.333333333333332\n",
      "\n",
      "Number of times 73 goes into 403 is:  5\n",
      "\n",
      "The remainder when 403 is divided by 73 is:  38\n",
      "\n",
      "The 2 to the 10th power is:  1024\n",
      "\n",
      "The absolute value of difference b/w the height of Sara and Mark is:  3 inches\n",
      "\n",
      "The lowest price is:  29.95 $\n"
     ]
    }
   ],
   "source": [
    "#Pracitce Problem 2.1 \n",
    "#Part (a)\n",
    "\n",
    "x=[1,2,3,4,5]\n",
    "print(\"Sum of first five integers is: \",sum(x))\n",
    "\n",
    "#Part (b)\n",
    "print()\n",
    "Sara=23\n",
    "Mark=19\n",
    "Fatima=31\n",
    "avg=(Sara+Mark+Fatima)/3\n",
    "print(\"The average age of Sara , Mark and Fatima is: \",avg)\n",
    "print()\n",
    "\n",
    "#Part (c)\n",
    "a=403\n",
    "b=73\n",
    "div=403//73\n",
    "print(\"Number of times 73 goes into 403 is: \",div)\n",
    "print()\n",
    "\n",
    "#Part (d)\n",
    "a=403\n",
    "b=73\n",
    "rem=403%73\n",
    "print(\"The remainder when 403 is divided by 73 is: \",rem)\n",
    "print()\n",
    "\n",
    "#Part (e)\n",
    "print(\"The 2 to the 10th power is: \",2**10)\n",
    "print()\n",
    "\n",
    "#Part (f)\n",
    "Sara_height=54\n",
    "Mark_height=57\n",
    "diff=Mark_height-Sara_height\n",
    "print(\"The absolute value of difference b/w the height of Sara and Mark is: \",abs(diff),\"inches\")\n",
    "print()\n",
    "\n",
    "#Part (g)\n",
    "price_lst=[34.99,29.95,31.50]\n",
    "print(\"The lowest price is: \",min(price_lst),\"$\")\n",
    "\n"
   ]
  },
  {
   "cell_type": "code",
   "execution_count": 1,
   "metadata": {},
   "outputs": [
    {
     "name": "stdout",
     "output_type": "stream",
     "text": [
      "Enter the length of side a: 5\n",
      "Enter the legth of side b: 7\n",
      "The lenght of hypotenuse is:  8.602325267042627 m\n",
      "\n",
      "The length of hypotenuse c with sides 3 and 4  is:  5.0 m\n",
      "\n"
     ]
    }
   ],
   "source": [
    "#PRACTICE PROBLEMS 2.10\n",
    "#part (a)\n",
    "from math import sqrt\n",
    "len_a=float(input(\"Enter the length of side a: \"))\n",
    "len_b=float(input(\"Enter the legth of side b: \"))\n",
    "len_c=sqrt(len_a**2+len_b**2)\n",
    "print(\"The lenght of hypotenuse is: \",len_c,\"m\")\n",
    "print()\n",
    "\n",
    "#Part (b)\n",
    "a=3\n",
    "b=4\n",
    "c=sqrt(a**2+b**2)\n",
    "print(\"The length of hypotenuse c with sides 3 and 4  is: \",c,\"m\")\n",
    "print()\n"
   ]
  },
  {
   "cell_type": "code",
   "execution_count": 4,
   "metadata": {
    "scrolled": false
   },
   "outputs": [
    {
     "name": "stdout",
     "output_type": "stream",
     "text": [
      "The radius of disk is: 10\n",
      "The area of the disk is:  314.1592653589793 m**2\n"
     ]
    }
   ],
   "source": [
    "#part (c)\n",
    "from math import pi\n",
    "r=float(input(\"The radius of disk is: \"))\n",
    "area=(pi)*(r**2)\n",
    "print(\"The area of the disk is: \",area,\"m**2\")\n"
   ]
  },
  {
   "cell_type": "code",
   "execution_count": 1,
   "metadata": {},
   "outputs": [
    {
     "name": "stdout",
     "output_type": "stream",
     "text": [
      "Enter the x_coordinate of point: 3\n",
      "Enter the y_coordinate of point: 4\n",
      "True\n"
     ]
    }
   ],
   "source": [
    "#Part (d)\n",
    "r=25\n",
    "a=0\n",
    "b=0\n",
    "x=int(input(\"Enter the x_coordinate of point: \"))\n",
    "y=int(input(\"Enter the y_coordinate of point: \"))\n",
    "point=(x-a)**2 + (y-b)**2\n",
    "print(bool(point<r**2))\n"
   ]
  },
  {
   "cell_type": "code",
   "execution_count": 36,
   "metadata": {},
   "outputs": [
    {
     "name": "stdout",
     "output_type": "stream",
     "text": [
      "False\n"
     ]
    }
   ],
   "source": [
    "#PRACTICE PROBLEMS 2.2\n",
    "\n",
    "#Part (a)\n",
    "x=2\n",
    "y=x+x\n",
    "print(y<4)"
   ]
  },
  {
   "cell_type": "code",
   "execution_count": 34,
   "metadata": {},
   "outputs": [
    {
     "name": "stdout",
     "output_type": "stream",
     "text": [
      "True\n"
     ]
    }
   ],
   "source": [
    "#Part (b)\n",
    "a=7\n",
    "b=3\n",
    "c=7//3\n",
    "print(c==1+1)"
   ]
  },
  {
   "cell_type": "code",
   "execution_count": 35,
   "metadata": {},
   "outputs": [
    {
     "name": "stdout",
     "output_type": "stream",
     "text": [
      "True\n"
     ]
    }
   ],
   "source": [
    "#Part(c)\n",
    "a=4**2\n",
    "b=3**2\n",
    "c=a+b\n",
    "print(c==25)"
   ]
  },
  {
   "cell_type": "code",
   "execution_count": 37,
   "metadata": {},
   "outputs": [
    {
     "name": "stdout",
     "output_type": "stream",
     "text": [
      "False\n"
     ]
    }
   ],
   "source": [
    "#Part (d)\n",
    "a=2\n",
    "b=4\n",
    "c=6\n",
    "x=a+b+c\n",
    "print(x>12)\n"
   ]
  },
  {
   "cell_type": "code",
   "execution_count": 42,
   "metadata": {},
   "outputs": [
    {
     "name": "stdout",
     "output_type": "stream",
     "text": [
      "True\n"
     ]
    }
   ],
   "source": [
    "#part (e)\n",
    "a=1387\n",
    "b=19\n",
    "x=a%b\n",
    "print(x==0)\n",
    "\n"
   ]
  },
  {
   "cell_type": "code",
   "execution_count": 43,
   "metadata": {},
   "outputs": [
    {
     "name": "stdout",
     "output_type": "stream",
     "text": [
      "1\n"
     ]
    }
   ],
   "source": [
    "#Part (f)\n",
    "x=31\n",
    "y=31%2\n",
    "print(y==2)\n"
   ]
  },
  {
   "cell_type": "code",
   "execution_count": 45,
   "metadata": {},
   "outputs": [
    {
     "name": "stdout",
     "output_type": "stream",
     "text": [
      "True\n"
     ]
    }
   ],
   "source": [
    "#Part (g)\n",
    "a=34.99\n",
    "b=29.95\n",
    "c=31.50\n",
    "print(a<30.00 or b<30.00 or c<30.00)"
   ]
  },
  {
   "cell_type": "code",
   "execution_count": 47,
   "metadata": {},
   "outputs": [
    {
     "name": "stdout",
     "output_type": "stream",
     "text": [
      "25\n"
     ]
    }
   ],
   "source": [
    "#PRACTICE PROBLEM 2.3\n",
    "\n",
    "a=3\n",
    "b=4\n",
    "c=(a*a)+(b*b)\n",
    "print(c)"
   ]
  },
  {
   "cell_type": "code",
   "execution_count": 100,
   "metadata": {},
   "outputs": [
    {
     "name": "stdout",
     "output_type": "stream",
     "text": [
      "ant bat cod\n",
      "ant ant ant ant ant ant ant ant \n",
      "ant bat bat  cod cod cod \n",
      "ant bat ant bat ant bat ant bat ant bat ant bat ant bat \n",
      "batbatcod batbatcod batbatcod \n"
     ]
    }
   ],
   "source": [
    "#PRACTICE PROBLEM 2.4\n",
    "s1='ant'\n",
    "s2='bat'\n",
    "s3='cod'\n",
    "\n",
    "#Part (a)\n",
    "a=s1+' '+s2+' '+s3\n",
    "print(a)\n",
    "\n",
    "#part (b)\n",
    "print ((s1+' ')*8)\n",
    "\n",
    "#Part (c)\n",
    "b=s1+' '+ ((s2+' ')*2)+' '+((s3 + ' ')*3)\n",
    "print(b)\n",
    "       \n",
    "#Part (d)\n",
    "d=((s1+' '+s2)+' ')*7\n",
    "print(d)\n",
    "\n",
    "#Part (e)\n",
    "e=((s2*2)+s3+' ')*3\n",
    "print(e)"
   ]
  },
  {
   "cell_type": "code",
   "execution_count": 105,
   "metadata": {},
   "outputs": [
    {
     "name": "stdout",
     "output_type": "stream",
     "text": [
      "0\n",
      "1\n",
      "6\n",
      "8\n",
      "9\n"
     ]
    }
   ],
   "source": [
    "#Practice problem 2.5\n",
    "s = '0123456789'\n",
    "\n",
    "#Part(a)\n",
    "print(s[0])\n",
    "#Part(b)\n",
    "print(s[1])\n",
    "#part (c)\n",
    "print(s[6])\n",
    "#Part(d)\n",
    "print(s[8])\n",
    "#Part (e)\n",
    "print(s[9])\n",
    "\n"
   ]
  },
  {
   "cell_type": "code",
   "execution_count": 111,
   "metadata": {},
   "outputs": [
    {
     "name": "stdout",
     "output_type": "stream",
     "text": [
      "badminton bat\n"
     ]
    }
   ],
   "source": [
    "#Practice Problem 2.6\n",
    "words = ['bat', 'ball', 'barn', 'basket', 'badminton']\n",
    "x=min(words)\n",
    "y=max(words)\n",
    "print(x,y)"
   ]
  },
  {
   "cell_type": "code",
   "execution_count": 124,
   "metadata": {},
   "outputs": [
    {
     "name": "stdout",
     "output_type": "stream",
     "text": [
      "2\n",
      "[9, 7, 7, 10, 3, 9, 6, 6, 4]\n",
      "10\n",
      "[3, 4, 6, 6, 7, 7, 9, 9, 10]\n",
      "6.777777777777778\n"
     ]
    }
   ],
   "source": [
    "#Practise Problem 2.7\n",
    "\n",
    "grades = [9, 7, 7, 10, 3, 9, 6, 6, 2]\n",
    "#part (a)\n",
    "x=grades.count(7)\n",
    "print(x)\n",
    "#part (b)\n",
    "grades[-1]=4\n",
    "print(grades)\n",
    "#part (c)\n",
    "y=max(grades)\n",
    "print(y)\n",
    "#part (d)\n",
    "grades.sort()\n",
    "print(grades)\n",
    "#Part (e)\n",
    "avg=sum(grades)/len(grades)\n",
    "print(avg)\n"
   ]
  },
  {
   "cell_type": "code",
   "execution_count": 141,
   "metadata": {},
   "outputs": [
    {
     "name": "stdout",
     "output_type": "stream",
     "text": [
      "a) ((2 + 3 == 4) or (a >= 5)\n",
      "b) lst[1] * -3 < -10 == 0\n",
      "c) (lst[1] * -3 < -10) in [0, True])\n",
      "d) 2 * 3**2\n",
      "e) 4 / 2 in [1, 2, 3]\n"
     ]
    }
   ],
   "source": [
    "#Practice Problem 2.8\n",
    "#Part (a)\n",
    "print ('a)','((2 + 3 == 4) or (a >= 5)')\n",
    "print ('b)','lst[1] * -3 < -10 == 0')\n",
    "print ('c)','(lst[1] * -3 < -10) in [0, True])')\n",
    "print ('d)','2 * 3**2')\n",
    "print ('e)','4 / 2 in [1, 2, 3]')"
   ]
  },
  {
   "cell_type": "code",
   "execution_count": 146,
   "metadata": {},
   "outputs": [
    {
     "name": "stdout",
     "output_type": "stream",
     "text": [
      "x) 0 ,Which is int value\n",
      "y) 18.0 ,Which is a float\n",
      "z) 2 ,Which is an integer\n",
      "a) 2 ,Which is boolean\n"
     ]
    }
   ],
   "source": [
    "#Practise Problem 2.9\n",
    "print ('x)',False + False,\",Which is int value\")\n",
    "print ('y)',2 * 3**2.0,\",Which is a float\")\n",
    "print ('z)',4 // 2 + 4 % 2,\",Which is an integer\")\n",
    "print ('a)',4 // 2 + 4 % 2,\",Which is boolean\")"
   ]
  },
  {
   "cell_type": "code",
   "execution_count": 149,
   "metadata": {},
   "outputs": [
    {
     "name": "stdout",
     "output_type": "stream",
     "text": [
      "a) -28\n",
      "b) 10.651685393258427\n",
      "c) 9.5367431640625e-07\n",
      "d) 71\n",
      "e) 25\n"
     ]
    }
   ],
   "source": [
    "#2.11\n",
    "#Part (a)\n",
    "lst =[-1,-2,-3,-4,-5,-6,-7]\n",
    "print('a)',sum(lst))\n",
    "print('b)',((17*9)+(24*10)+(21*11)+(27*12))/(17+24+21+27))\n",
    "print('c)',2**-20) \n",
    "print('d)',4356//61)\n",
    "print('e)',4356%61)\n",
    "\n"
   ]
  },
  {
   "cell_type": "code",
   "execution_count": 167,
   "metadata": {},
   "outputs": [
    {
     "name": "stdout",
     "output_type": "stream",
     "text": [
      "a) -+\n",
      "b) -+-\n",
      "c) +--\n",
      "d) +--+--\n",
      "e) +--+--+--+--+--+--+--+--+--+--+\n",
      "f) +-+++--+-+++--+-+++--+-+++--+-+++--\n"
     ]
    }
   ],
   "source": [
    "#2.12\n",
    "s1 = '-'\n",
    "s2 = '+'\n",
    "print('a)',s1+s2)\n",
    "print('b)',s1+s2+s1)\n",
    "print('c)',s2+(s1*2))\n",
    "print('d)',(s2+(s1*2))*2)\n",
    "print('e)',(s2+(s1*2))*10+s2)\n",
    "print('f)',((s2+s1)+(s2*3)+(s1*2))*5)\n"
   ]
  },
  {
   "cell_type": "code",
   "execution_count": 182,
   "metadata": {},
   "outputs": [
    {
     "name": "stdout",
     "output_type": "stream",
     "text": [
      "a) a\n",
      "b) c\n",
      "c) z\n",
      "d) x\n",
      "e) q\n"
     ]
    }
   ],
   "source": [
    "2.13\n",
    "s = 'abcdefghijklmnopqrstuvwxyz'\n",
    "print('a)',s[0])\n",
    "print('b)',s[2])\n",
    "print('c)',s[-1])\n",
    "print('d)',s[-3])\n",
    "print('e)',s[-10])"
   ]
  },
  {
   "cell_type": "code",
   "execution_count": 209,
   "metadata": {},
   "outputs": [
    {
     "name": "stdout",
     "output_type": "stream",
     "text": [
      "a) True\n",
      "b) False\n",
      "c) False\n",
      "d) False\n",
      "e) True\n",
      "f) False\n",
      "g) False\n"
     ]
    }
   ],
   "source": [
    "#2.14\n",
    "s = 'goodbye'\n",
    "print('a)',s[0]=='g')\n",
    "print('b)',s[6]=='g')\n",
    "print('c)',s[0]=='g' and s[1]=='a')\n",
    "print('d)',s[-2]=='x')\n",
    "print('e)',s[3]=='d')\n",
    "print('f)',s[1]==s[-1])\n",
    "print('g)',(s[-4]+s[-3]+s[-2]+s[-1])=='tion')"
   ]
  },
  {
   "cell_type": "code",
   "execution_count": 214,
   "metadata": {},
   "outputs": [
    {
     "name": "stdout",
     "output_type": "stream",
     "text": [
      "John Fitzgerald Kennedy \n"
     ]
    }
   ],
   "source": [
    "#2.16\n",
    "inventory=['papers','staples','pencils']\n",
    "first='John ' \n",
    "middle='Fitzgerald ' \n",
    "last='Kennedy '\n",
    "fullname=first +middle +last\n",
    "print(fullname)"
   ]
  },
  {
   "cell_type": "code",
   "execution_count": 220,
   "metadata": {},
   "outputs": [
    {
     "name": "stdout",
     "output_type": "stream",
     "text": [
      "a) True\n",
      "b) False\n",
      "b) False\n",
      "d) True\n",
      "e) False\n",
      "f) False\n"
     ]
    }
   ],
   "source": [
    "#2.17\n",
    "\n",
    "a=6\n",
    "b=7\n",
    "c=(a+b)/2\n",
    "inventory=['papers','staples','pencils']\n",
    "first='John ' \n",
    "middle='Fitzgerald ' \n",
    "last='Kennedy '\n",
    "fullname='John Fitzgerald Kennedy'\n",
    "print('a)',17+(-9)<10)\n",
    "print('b)',len(inventory)-len(fullname)>5)\n",
    "print('b)',c>=24)\n",
    "print('d)',6.75 >a and 6.75<b)\n",
    "print('e)',len(middle)>len(first) and len(middle)<len(last))\n",
    "print('f)',len(inventory)==0 or len(inventory)>10)\n"
   ]
  },
  {
   "cell_type": "code",
   "execution_count": 231,
   "metadata": {},
   "outputs": [
    {
     "name": "stdout",
     "output_type": "stream",
     "text": [
      "b) False\n",
      "\n",
      "c) ['rose', 'bougainvilea', 'yucca']\n",
      "\n",
      "d) lilly of the valley\n"
     ]
    }
   ],
   "source": [
    "#2.18\n",
    "flower = ['rose', 'bougainvilea','yucca', 'marlgold','daylilly','lilly of the valley']\n",
    "print('b)','potato' in flower)\n",
    "print()\n",
    "thorny = flower[:3]\n",
    "print('c)', thorny) \n",
    "print()\n",
    "poisnous = flower[-1]\n",
    "print('d)', poisnous)\n"
   ]
  },
  {
   "cell_type": "code",
   "execution_count": 241,
   "metadata": {},
   "outputs": [
    {
     "name": "stdout",
     "output_type": "stream",
     "text": [
      "a) 5\n",
      "b) 6\n",
      "c) 45.45454545454545 %\n",
      "d) ['N', 'N', 'N', 'N', 'N', 'N', 'Y', 'Y', 'Y', 'Y', 'Y']\n",
      "a) at 6 Y will occur for the first time.\n"
     ]
    }
   ],
   "source": [
    "#2.19\n",
    "answers = ['Y', 'N', 'N', 'Y', 'N', 'Y', 'Y', 'Y', 'N', 'N', 'N']\n",
    "numYes=answers.count('Y')\n",
    "print('a)',numYes)\n",
    "print('b)',answers.count('N'))\n",
    "percentYes=(numYes/len(answers)*100)\n",
    "print('c)',percentYes,'%')\n",
    "answers.sort()\n",
    "print('d)',answers)\n",
    "f=answers.count('N')\n",
    "print('a) at',f,answers[f],'will occur for the first time.')\n",
    "      \n",
    "      \n",
    "      "
   ]
  },
  {
   "cell_type": "code",
   "execution_count": 222,
   "metadata": {},
   "outputs": [
    {
     "name": "stdout",
     "output_type": "stream",
     "text": [
      "top\n"
     ]
    }
   ],
   "source": [
    "#2.20\n",
    "s = 'pot'\n",
    "print(s[::-1])"
   ]
  },
  {
   "cell_type": "code",
   "execution_count": 223,
   "metadata": {},
   "outputs": [
    {
     "name": "stdout",
     "output_type": "stream",
     "text": [
      "LP\n"
     ]
    }
   ],
   "source": [
    "#2.21\n",
    "s = 'Ljubomir'\n",
    "z = 'Perkovic'\n",
    "print(s[0]+z[0])\n"
   ]
  },
  {
   "cell_type": "code",
   "execution_count": 242,
   "metadata": {},
   "outputs": [
    {
     "name": "stdout",
     "output_type": "stream",
     "text": [
      "14\n"
     ]
    }
   ],
   "source": [
    "#2.22\n",
    "lst = [3, 7, -2, 12]\n",
    "print(max(lst)-min(lst))\n",
    "      "
   ]
  },
  {
   "cell_type": "code",
   "execution_count": 249,
   "metadata": {},
   "outputs": [
    {
     "name": "stdout",
     "output_type": "stream",
     "text": [
      "['jan', 'feb', 'march', 'apr', 'may']\n",
      "\n",
      "['jan', 'feb', 'march', 'may', 'Jan']\n",
      "\n",
      "['may', 'march', 'jan', 'feb']\n",
      "\n",
      "['feb', 'jan', 'march', 'may']\n",
      "\n",
      "['jan', 'march', 'may']\n"
     ]
    }
   ],
   "source": [
    "#2.23\n",
    "monthsl = [\"jan\", \"feb\", \"march\", \"may\"]\n",
    "monthst = [\"jan\", \"feb\", \"march\", \"may\"]\n",
    "monthsl.insert (3, \"apr\")\n",
    "print (monthsl)\n",
    "print()\n",
    "monthsl = [\"jan\", \"feb\", \"march\", \"may\"]\n",
    "monthst = [\"jan\", \"feb\", \"march\", \"may\"]\n",
    "monthsl.append ( \"Jan\")\n",
    "print (monthsl)\n",
    "print()\n",
    "monthsl = ['jan', 'feb', 'march', 'may']\n",
    "monthsl.sort (reverse = True)\n",
    "print (monthsl)\n",
    "print()\n",
    "monthsl = ['jan', 'feb', 'march', 'may']\n",
    "monthsl.sort (reverse = False)\n",
    "print (monthsl)\n",
    "print()\n",
    "monthsl = ['jan', 'feb', 'march', 'may']\n",
    "monthsl.remove (\"feb\")\n",
    "print (monthsl)"
   ]
  },
  {
   "cell_type": "code",
   "execution_count": 246,
   "metadata": {},
   "outputs": [
    {
     "name": "stdout",
     "output_type": "stream",
     "text": [
      "[4, 4, 2, 2, 1]\n"
     ]
    }
   ],
   "source": [
    "#2.24\n",
    "grades = ['B','B','F','C','B','A','A','D','C','D','A','A','B']\n",
    "count = [grades.count('A'),grades.count('B'),grades.count('C'),grades.count('D'),grades.count('F')]\n",
    "print(count)"
   ]
  },
  {
   "cell_type": "code",
   "execution_count": 248,
   "metadata": {},
   "outputs": [
    {
     "name": "stdout",
     "output_type": "stream",
     "text": [
      "[4, 4, 2, 2, 1]\n"
     ]
    }
   ],
   "source": [
    "#2.25\n",
    "grades = ('B','B','F','C','B','A','A','D','C','D','A','A','B')\n",
    "count = [grades.count('A'),grades.count('B'),grades.count('C'),grades.count('D'),grades.count('F')]\n",
    "print(count)"
   ]
  },
  {
   "cell_type": "code",
   "execution_count": 251,
   "metadata": {},
   "outputs": [
    {
     "name": "stdout",
     "output_type": "stream",
     "text": [
      "a) True\n",
      "b) True\n",
      "c) True\n",
      "d) True\n"
     ]
    }
   ],
   "source": [
    "#2.26\n",
    "from math import *\n",
    "r=10\n",
    "X=0\n",
    "Y=0\n",
    "a=sqrt((0-0)*2+(0-0)*2)\n",
    "b=sqrt((10-0)*2+(10-0)*2)\n",
    "c=sqrt((6-0)*2+(6-0)*2)\n",
    "d=sqrt((7-0)*2+(8-0)*2)\n",
    "print('a)',a<r)\n",
    "print('b)',b<r)\n",
    "print('c)',c<r)\n",
    "print('d)',d<r)"
   ]
  },
  {
   "cell_type": "code",
   "execution_count": 5,
   "metadata": {},
   "outputs": [
    {
     "name": "stdout",
     "output_type": "stream",
     "text": [
      "\n",
      "\n",
      "Please enter the length of the ladder: 16\n",
      "Please enter the angle of the ladder in degrees: 75\n",
      "The height of the ladder must be  15.454813220625093\n",
      "\n"
     ]
    }
   ],
   "source": [
    "#2.27\n",
    "from math import *\n",
    "def main():\n",
    "    height = eval(input(\"Please enter the height of the ladder \"))\n",
    "    deg = eval(input(\"Please enter the angle of the ladder in degrees \"))\n",
    "    rad = (pi/180) * deg\n",
    "    leng = height/(sin(rad))\n",
    "    print(\"The length of the ladder must be \", leng)\n",
    "    return main()\n",
    "print()\n",
    "\n",
    "# part (b)\n",
    "\n",
    "def main():\n",
    "    height = eval(input(\"Please enter the height of the ladder \"))\n",
    "    deg = eval(input(\"Please enter the angle of the ladder in degrees \"))\n",
    "    rad = (pi/180) * deg\n",
    "    leng = height/(sin(rad))\n",
    "    print(\"The length of the ladder must be \", leng)\n",
    "    return main()\n",
    "print()\n",
    "\n",
    "# part(c)\n",
    "\n",
    "length_feet = int(input(\"Please enter the length of the ladder: \"))\n",
    "deg_rad = int(input(\"Please enter the angle of the ladder in degrees: \"))\n",
    "rad = (pi/180) * deg_rad\n",
    "height = length_feet * (sin(rad))\n",
    "print(\"The height of the ladder must be \", height)\n",
    "print()\n",
    "\n",
    "#part(d)\n",
    "\n",
    "def main():\n",
    "    height = eval(input(\"Please enter the height of the ladder \"))\n",
    "    deg = eval(input(\"Please enter the angle of the ladder in degrees \"))\n",
    "    rad = (pi/180) * deg\n",
    "    leng = height/(sin(rad))\n",
    "    print(\"The length of the ladder must be \", leng)\n",
    "    return main()"
   ]
  },
  {
   "cell_type": "code",
   "execution_count": 7,
   "metadata": {},
   "outputs": [
    {
     "name": "stdout",
     "output_type": "stream",
     "text": [
      "3\n",
      "\n",
      "3\n",
      "\n",
      "[5, 8, 4, 6]\n",
      "\n",
      "[8, 9, 12, 7]\n"
     ]
    }
   ],
   "source": [
    "#2.28\n",
    "#part(a)\n",
    "lst = [2, 4, 6, 9, 8, 10, 5]\n",
    "b = lst.index (9)\n",
    "print (b)\n",
    "print()\n",
    "\n",
    "#part(b)\n",
    "lst = [1, 2, 3, 8, 5]\n",
    "b = lst [2]\n",
    "print(b)\n",
    "print()\n",
    "\n",
    "#part(c)\n",
    "lst = [6, 4, 8, 5]\n",
    "b = lst[::-1]\n",
    "print(b)\n",
    "print()\n",
    "\n",
    "#part(d)\n",
    "lst = [7, 8, 9, 12]\n",
    "lst.remove (7)\n",
    "lst.append (7)\n",
    "print (lst)"
   ]
  },
  {
   "cell_type": "code",
   "execution_count": 15,
   "metadata": {},
   "outputs": [
    {
     "name": "stdout",
     "output_type": "stream",
     "text": [
      "a) True\n",
      "b) True\n",
      "c) True\n"
     ]
    }
   ],
   "source": [
    "#2.29\n",
    "print('a)',0 <= 1 or 1 == 2)\n",
    "print('b)',2 + 3 >= 4 or 5 >= 7)\n",
    "print('c)',1 > -1 or 3 > 4)"
   ]
  },
  {
   "cell_type": "code",
   "execution_count": 17,
   "metadata": {},
   "outputs": [
    {
     "name": "stdout",
     "output_type": "stream",
     "text": [
      "['R', 'a', 'm', 'i', 'n', ' ', 'S', 'h', 'a', 'h', 'i', 'd']\n"
     ]
    }
   ],
   "source": [
    "#2.30\n",
    "s='Ramin Shahid'\n",
    "s=list(s)\n",
    "print(s)"
   ]
  }
 ],
 "metadata": {
  "kernelspec": {
   "display_name": "Python 3",
   "language": "python",
   "name": "python3"
  },
  "language_info": {
   "codemirror_mode": {
    "name": "ipython",
    "version": 3
   },
   "file_extension": ".py",
   "mimetype": "text/x-python",
   "name": "python",
   "nbconvert_exporter": "python",
   "pygments_lexer": "ipython3",
   "version": "3.7.3"
  }
 },
 "nbformat": 4,
 "nbformat_minor": 2
}
