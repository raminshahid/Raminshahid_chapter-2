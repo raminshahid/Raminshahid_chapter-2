{
 "cells": [
  {
   "cell_type": "markdown",
   "metadata": {},
   "source": [
    "# LECTURE 5_6 Assignment\n"
   ]
  },
  {
   "cell_type": "code",
   "execution_count": 12,
   "metadata": {},
   "outputs": [
    {
     "name": "stdout",
     "output_type": "stream",
     "text": [
      "Sum of first five integers is:  15\n",
      "\n",
      "The average age of Sara , Mark and Fatima is:  24.333333333333332\n",
      "\n",
      "Number of times 73 goes into 403 is:  5\n",
      "\n",
      "The remainder when 403 is divided by 73 is:  38\n",
      "\n",
      "The 2 to the 10th power is:  1024\n",
      "\n",
      "The absolute value of difference b/w the height of Sara and Mark is:  3 inches\n",
      "\n",
      "The lowest price is:  29.95 $\n"
     ]
    }
   ],
   "source": [
    "#Pracitce Problem 2.1 \n",
    "#Part (a)\n",
    "\n",
    "x=[1,2,3,4,5]\n",
    "print(\"Sum of first five integers is: \",sum(x))\n",
    "\n",
    "#Part (b)\n",
    "print()\n",
    "Sara=23\n",
    "Mark=19\n",
    "Fatima=31\n",
    "avg=(Sara+Mark+Fatima)/3\n",
    "print(\"The average age of Sara , Mark and Fatima is: \",avg)\n",
    "print()\n",
    "\n",
    "#Part (c)\n",
    "a=403\n",
    "b=73\n",
    "div=403//73\n",
    "print(\"Number of times 73 goes into 403 is: \",div)\n",
    "print()\n",
    "\n",
    "#Part (d)\n",
    "a=403\n",
    "b=73\n",
    "rem=403%73\n",
    "print(\"The remainder when 403 is divided by 73 is: \",rem)\n",
    "print()\n",
    "\n",
    "#Part (e)\n",
    "print(\"The 2 to the 10th power is: \",2**10)\n",
    "print()\n",
    "\n",
    "#Part (f)\n",
    "Sara_height=54\n",
    "Mark_height=57\n",
    "diff=Mark_height-Sara_height\n",
    "print(\"The absolute value of difference b/w the height of Sara and Mark is: \",abs(diff),\"inches\")\n",
    "print()\n",
    "\n",
    "#Part (g)\n",
    "price_lst=[34.99,29.95,31.50]\n",
    "print(\"The lowest price is: \",min(price_lst),\"$\")\n",
    "\n"
   ]
  },
  {
   "cell_type": "code",
   "execution_count": 1,
   "metadata": {},
   "outputs": [
    {
     "name": "stdout",
     "output_type": "stream",
     "text": [
      "Enter the length of side a: 5\n",
      "Enter the legth of side b: 7\n",
      "The lenght of hypotenuse is:  8.602325267042627 m\n",
      "\n",
      "The length of hypotenuse c with sides 3 and 4  is:  5.0 m\n",
      "\n"
     ]
    }
   ],
   "source": [
    "#PRACTICE PROBLEMS 2.10\n",
    "#part (a)\n",
    "from math import sqrt\n",
    "len_a=float(input(\"Enter the length of side a: \"))\n",
    "len_b=float(input(\"Enter the legth of side b: \"))\n",
    "len_c=sqrt(len_a**2+len_b**2)\n",
    "print(\"The lenght of hypotenuse is: \",len_c,\"m\")\n",
    "print()\n",
    "\n",
    "#Part (b)\n",
    "a=3\n",
    "b=4\n",
    "c=sqrt(a**2+b**2)\n",
    "print(\"The length of hypotenuse c with sides 3 and 4  is: \",c,\"m\")\n",
    "print()\n"
   ]
  },
  {
   "cell_type": "code",
   "execution_count": 4,
   "metadata": {},
   "outputs": [
    {
     "name": "stdout",
     "output_type": "stream",
     "text": [
      "The radius of disk is: 10\n",
      "The area of the disk is:  314.1592653589793 m**2\n"
     ]
    }
   ],
   "source": [
    "#part (c)\n",
    "from math import pi\n",
    "r=float(input(\"The radius of disk is: \"))\n",
    "area=(pi)*(r**2)\n",
    "print(\"The area of the disk is: \",area,\"m**2\")\n"
   ]
  },
  {
   "cell_type": "code",
   "execution_count": 12,
   "metadata": {},
   "outputs": [
    {
     "name": "stdout",
     "output_type": "stream",
     "text": [
      "Enter the x_coordinate of point: 3\n",
      "Enter the y_coordinate of point: 6\n",
      "True\n"
     ]
    }
   ],
   "source": [
    "#Part (d)\n",
    "r=25\n",
    "a=0\n",
    "b=0\n",
    "x=int(input(\"Enter the x_coordinate of point: \"))\n",
    "y=int(input(\"Enter the y_coordinate of point: \"))\n",
    "point=(x-a)**2 + (y-b)**2\n",
    "print(bool(point<r**2))\n"
   ]
  }
 ],
 "metadata": {
  "kernelspec": {
   "display_name": "Python 3",
   "language": "python",
   "name": "python3"
  },
  "language_info": {
   "codemirror_mode": {
    "name": "ipython",
    "version": 3
   },
   "file_extension": ".py",
   "mimetype": "text/x-python",
   "name": "python",
   "nbconvert_exporter": "python",
   "pygments_lexer": "ipython3",
   "version": "3.7.3"
  }
 },
 "nbformat": 4,
 "nbformat_minor": 2
}
